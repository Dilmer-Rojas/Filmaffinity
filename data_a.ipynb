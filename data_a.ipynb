{
 "cells": [
  {
   "cell_type": "markdown",
   "metadata": {},
   "source": [
    "## ANALISIS DE DATOS DE FILMAFFINITY"
   ]
  },
  {
   "cell_type": "code",
   "execution_count": 1,
   "metadata": {},
   "outputs": [
    {
     "name": "stdout",
     "output_type": "stream",
     "text": [
      "Base de datos SQLite creada y datos importados\n"
     ]
    }
   ],
   "source": [
    "import pandas as pd\n",
    "import sqlite3\n",
    "\n",
    "# ruta del csv\n",
    "ruta_csv = \"./data/filmaffinity_dataset.csv\"\n",
    "\n",
    "# Cargar el csv en un dataframe\n",
    "df = pd.read_csv(ruta_csv)\n",
    "\n",
    "# Conexión SQLite\n",
    "conexion = sqlite3.connect(\"filmaffinity.db\")\n",
    "\n",
    "# Guardar el DataFrame como tabla en SQLite\n",
    "df.to_sql(\"filmaffinity_tb\", conexion, if_exists=\"replace\", index=False)\n",
    "\n",
    "print(\"Base de datos SQLite creada y datos importados\")\n",
    "\n",
    "cursor = conexion.cursor()"
   ]
  },
  {
   "cell_type": "code",
   "execution_count": 4,
   "metadata": {},
   "outputs": [
    {
     "data": {
      "text/html": [
       "<div>\n",
       "<style scoped>\n",
       "    .dataframe tbody tr th:only-of-type {\n",
       "        vertical-align: middle;\n",
       "    }\n",
       "\n",
       "    .dataframe tbody tr th {\n",
       "        vertical-align: top;\n",
       "    }\n",
       "\n",
       "    .dataframe thead th {\n",
       "        text-align: right;\n",
       "    }\n",
       "</style>\n",
       "<table border=\"1\" class=\"dataframe\">\n",
       "  <thead>\n",
       "    <tr style=\"text-align: right;\">\n",
       "      <th></th>\n",
       "      <th>index</th>\n",
       "      <th>Unnamed: 0</th>\n",
       "      <th>Título</th>\n",
       "      <th>Año</th>\n",
       "      <th>País</th>\n",
       "      <th>Dirección</th>\n",
       "      <th>Reparto</th>\n",
       "      <th>Nota</th>\n",
       "      <th>Tipo filme</th>\n",
       "      <th>Género</th>\n",
       "    </tr>\n",
       "  </thead>\n",
       "  <tbody>\n",
       "    <tr>\n",
       "      <th>0</th>\n",
       "      <td>0</td>\n",
       "      <td>0</td>\n",
       "      <td>'49-'17</td>\n",
       "      <td>1917</td>\n",
       "      <td>Estados Unidos</td>\n",
       "      <td>Ruth Ann Baldwin</td>\n",
       "      <td>Joseph W. Girard, Leo Pierson, William Dyer, M...</td>\n",
       "      <td>--</td>\n",
       "      <td>Película</td>\n",
       "      <td>Western</td>\n",
       "    </tr>\n",
       "    <tr>\n",
       "      <th>1</th>\n",
       "      <td>1</td>\n",
       "      <td>1</td>\n",
       "      <td>10,000 Years B.C. (C)</td>\n",
       "      <td>1916</td>\n",
       "      <td>Estados Unidos</td>\n",
       "      <td>Willis H. O'Brien</td>\n",
       "      <td>None</td>\n",
       "      <td>5,1</td>\n",
       "      <td>Cortometraje</td>\n",
       "      <td>Comedia</td>\n",
       "    </tr>\n",
       "    <tr>\n",
       "      <th>2</th>\n",
       "      <td>2</td>\n",
       "      <td>2</td>\n",
       "      <td>1812</td>\n",
       "      <td>1912</td>\n",
       "      <td>Rusia</td>\n",
       "      <td>Vasili Goncharov, Kai Hansen, Aleksandr Uralsky</td>\n",
       "      <td>Pavel Knorr, Vasili Goncharov, Aleksandra Gonc...</td>\n",
       "      <td>--</td>\n",
       "      <td>Película</td>\n",
       "      <td>Drama</td>\n",
       "    </tr>\n",
       "    <tr>\n",
       "      <th>3</th>\n",
       "      <td>3</td>\n",
       "      <td>3</td>\n",
       "      <td>20.000 leguas de viaje submarino (C)</td>\n",
       "      <td>1907</td>\n",
       "      <td>Francia</td>\n",
       "      <td>Georges Méliès</td>\n",
       "      <td>Georges Méliès</td>\n",
       "      <td>6,0</td>\n",
       "      <td>Cortometraje</td>\n",
       "      <td>Fantástico</td>\n",
       "    </tr>\n",
       "    <tr>\n",
       "      <th>4</th>\n",
       "      <td>4</td>\n",
       "      <td>4</td>\n",
       "      <td>A Bad Case (C)</td>\n",
       "      <td>1909</td>\n",
       "      <td>Francia</td>\n",
       "      <td>Émile Cohl</td>\n",
       "      <td>None</td>\n",
       "      <td>5,3</td>\n",
       "      <td>Cortometraje</td>\n",
       "      <td>Comedia</td>\n",
       "    </tr>\n",
       "  </tbody>\n",
       "</table>\n",
       "</div>"
      ],
      "text/plain": [
       "   index  Unnamed: 0                                Título   Año  \\\n",
       "0      0           0                              '49-'17   1917   \n",
       "1      1           1                 10,000 Years B.C. (C)  1916   \n",
       "2      2           2                                 1812   1912   \n",
       "3      3           3  20.000 leguas de viaje submarino (C)  1907   \n",
       "4      4           4                        A Bad Case (C)  1909   \n",
       "\n",
       "             País                                        Dirección  \\\n",
       "0  Estados Unidos                                 Ruth Ann Baldwin   \n",
       "1  Estados Unidos                                Willis H. O'Brien   \n",
       "2           Rusia  Vasili Goncharov, Kai Hansen, Aleksandr Uralsky   \n",
       "3         Francia                                   Georges Méliès   \n",
       "4         Francia                                       Émile Cohl   \n",
       "\n",
       "                                             Reparto Nota    Tipo filme  \\\n",
       "0  Joseph W. Girard, Leo Pierson, William Dyer, M...   --      Película   \n",
       "1                                               None  5,1  Cortometraje   \n",
       "2  Pavel Knorr, Vasili Goncharov, Aleksandra Gonc...   --      Película   \n",
       "3                                     Georges Méliès  6,0  Cortometraje   \n",
       "4                                               None  5,3  Cortometraje   \n",
       "\n",
       "       Género  \n",
       "0     Western  \n",
       "1     Comedia  \n",
       "2       Drama  \n",
       "3  Fantástico  \n",
       "4     Comedia  "
      ]
     },
     "execution_count": 4,
     "metadata": {},
     "output_type": "execute_result"
    }
   ],
   "source": [
    "consulta = \"\"\"\n",
    "           SELECT *\n",
    "           FROM filmaffinity_tb\n",
    "           LIMIT 5;\n",
    "           \"\"\"\n",
    "resultado = pd.read_sql_query(consulta, conexion)\n",
    "resultado"
   ]
  },
  {
   "cell_type": "markdown",
   "metadata": {},
   "source": [
    "# 1. Limpieza de data\n",
    "En esta face haremos lo siguiente:\n",
    "\n",
    " 1. Hacer un copia de la base de datos original para luego poder trabajar en esta copia y no afectar a la original.\n",
    " 2. Luego pasamos a hacer la limpieza que consiste en:\n",
    "      \n",
    "      ✅ Datos faltantes (Nulos).\n",
    "\n",
    "      ✅ Registros duplicados.\n",
    "\n",
    "      ✅ Formatos inconsistentes (fechas, nombres, números).\n",
    "      \n",
    "      ✅ Valores atípicos (outliers)."
   ]
  },
  {
   "cell_type": "markdown",
   "metadata": {},
   "source": [
    "### Hacer una copia de la db original para trabajar con esta copia"
   ]
  },
  {
   "cell_type": "code",
   "execution_count": null,
   "metadata": {},
   "outputs": [],
   "source": []
  },
  {
   "cell_type": "code",
   "execution_count": null,
   "metadata": {},
   "outputs": [],
   "source": [
    "# Cerrar conexión con\n",
    "# conexion.close()"
   ]
  }
 ],
 "metadata": {
  "kernelspec": {
   "display_name": "Northwind_sql",
   "language": "python",
   "name": "python3"
  },
  "language_info": {
   "codemirror_mode": {
    "name": "ipython",
    "version": 3
   },
   "file_extension": ".py",
   "mimetype": "text/x-python",
   "name": "python",
   "nbconvert_exporter": "python",
   "pygments_lexer": "ipython3",
   "version": "3.13.2"
  }
 },
 "nbformat": 4,
 "nbformat_minor": 2
}
